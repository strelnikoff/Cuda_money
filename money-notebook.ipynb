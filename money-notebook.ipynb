{
 "cells": [
  {
   "cell_type": "markdown",
   "metadata": {
    "collapsed": true
   },
   "source": [
    "# Сеть для распознавания номиналов монет"
   ]
  },
  {
   "cell_type": "markdown",
   "metadata": {},
   "source": [
    "## Импорт библиотек"
   ]
  },
  {
   "cell_type": "code",
   "execution_count": 25,
   "metadata": {
    "collapsed": false
   },
   "outputs": [],
   "source": [
    "import pickle\n",
    "\n",
    "import matplotlib.pyplot as plt\n",
    "import cv2\n",
    "\n",
    "%matplotlib inline"
   ]
  },
  {
   "cell_type": "code",
   "execution_count": 26,
   "metadata": {
    "collapsed": false
   },
   "outputs": [],
   "source": [
    "import numpy as np\n",
    "import theano\n",
    "import theano.tensor as T\n",
    "import lasagne"
   ]
  },
  {
   "cell_type": "code",
   "execution_count": 27,
   "metadata": {
    "collapsed": true
   },
   "outputs": [],
   "source": [
    "import sys\n",
    "import os\n",
    "import time"
   ]
  },
  {
   "cell_type": "markdown",
   "metadata": {
    "collapsed": false
   },
   "source": [
    "## Загружаем базу изображений"
   ]
  },
  {
   "cell_type": "code",
   "execution_count": 28,
   "metadata": {
    "collapsed": false
   },
   "outputs": [],
   "source": [
    "def get_image(image_name):\n",
    "    img = cv2.imread(image_name)\n",
    "    img = cv2.resize(img, (64, 64))\n",
    "    img = np.reshape(img, (3, 64, 64))\n",
    "    return img"
   ]
  },
  {
   "cell_type": "code",
   "execution_count": 29,
   "metadata": {
    "collapsed": true
   },
   "outputs": [],
   "source": [
    "IMGS_PATH = ''\n",
    "def get_by_dir(directory, num=None):\n",
    "    imgs_names = os.listdir(directory)\n",
    "    \n",
    "    if num is not None:\n",
    "        imgs_names = imgs_names[:num]\n",
    "    out = []\n",
    "    for img_name in imgs_names:\n",
    "        out.append(get_image(directory+img_name))\n",
    "    return out"
   ]
  },
  {
   "cell_type": "code",
   "execution_count": 30,
   "metadata": {
    "collapsed": true
   },
   "outputs": [],
   "source": [
    "def get_data(list_of_dirs, num=None):\n",
    "    images = []\n",
    "    labels = []\n",
    "    for directory, name in list_of_dirs:\n",
    "        print(directory, name)\n",
    "        img = get_by_dir(directory, num)\n",
    "        labels.extend([name for x in range(len(img))])\n",
    "        images.extend(img)\n",
    "    return images, labels"
   ]
  },
  {
   "cell_type": "code",
   "execution_count": 31,
   "metadata": {
    "collapsed": false,
    "scrolled": true
   },
   "outputs": [
    {
     "name": "stdout",
     "output_type": "stream",
     "text": [
      "D:\\Camera\\1r\\ 0\n",
      "D:\\Camera\\2r\\ 1\n",
      "D:\\Camera\\5r\\ 2\n",
      "D:\\Camera\\10k\\ 3\n",
      "D:\\Camera\\10r\\ 4\n",
      "D:\\Camera\\50k\\ 5\n"
     ]
    }
   ],
   "source": [
    "list_of_dirs = [['D:\\\\Camera\\\\1r\\\\', 0],\n",
    "                ['D:\\\\Camera\\\\2r\\\\', 1],\n",
    "                ['D:\\\\Camera\\\\5r\\\\', 2],\n",
    "                ['D:\\\\Camera\\\\10k\\\\', 3],\n",
    "                ['D:\\\\Camera\\\\10r\\\\', 4],\n",
    "                ['D:\\\\Camera\\\\50k\\\\', 5],\n",
    "               ]\n",
    "images, labels = get_data(list_of_dirs, 800)\n",
    "images = images / np.float32(256)\n",
    "images_test = [images[i] for i in range(len(images)) if i%3 == 2]\n",
    "labels_test = [labels[i] for i in range(len(labels)) if i%3 == 2]\n",
    "images = [images[i] for i in range(len(images)) if i%3 == 0 or i%3 == 1]\n",
    "labels = [labels[i] for i in range(len(labels)) if i%3 == 0 or i%3 == 1]"
   ]
  },
  {
   "cell_type": "code",
   "execution_count": 32,
   "metadata": {
    "collapsed": false
   },
   "outputs": [
    {
     "name": "stdout",
     "output_type": "stream",
     "text": [
      "3200 3200\n",
      "1600 1600\n"
     ]
    }
   ],
   "source": [
    "print (len(images), len(labels))\n",
    "print (len(images_test), len(labels_test))\n",
    "labels = np.array(labels)\n",
    "labels_test = np.array(labels_test)\n",
    "images = np.array(images)\n",
    "images_test= np.array(images_test)"
   ]
  },
  {
   "cell_type": "markdown",
   "metadata": {},
   "source": [
    "## Haar для локализации монет"
   ]
  },
  {
   "cell_type": "code",
   "execution_count": 33,
   "metadata": {
    "collapsed": true
   },
   "outputs": [],
   "source": [
    "def haar_find_mony(cascade_file, image):\n",
    "    haar_cascade = cv2.CascadeClassifier(cascade_file)\n",
    "    gray = cv2.cvtColor(image, cv2.COLOR_BGR2GRAY)\n",
    "    \n",
    "    detects_location = haar_cascade.detectMultiScale(gray, 1.1, 1)\n",
    "    \n",
    "    return detects_location"
   ]
  },
  {
   "cell_type": "markdown",
   "metadata": {},
   "source": [
    "## Сеть для поиска монет"
   ]
  },
  {
   "cell_type": "code",
   "execution_count": 34,
   "metadata": {
    "collapsed": true
   },
   "outputs": [],
   "source": [
    "def build_cnn(input_var=None):\n",
    "    network = lasagne.layers.InputLayer(shape=(None, 3, 64, 64),\n",
    "                                        input_var=input_var)\n",
    "    \n",
    "    network = lasagne.layers.Conv2DLayer(\n",
    "            network, num_filters=64, filter_size=(3, 3),\n",
    "            nonlinearity=lasagne.nonlinearities.rectify,\n",
    "            W=lasagne.init.GlorotUniform())\n",
    "\n",
    "    network = lasagne.layers.MaxPool2DLayer(network, pool_size=(2, 2))\n",
    "\n",
    "    network = lasagne.layers.DenseLayer(\n",
    "            lasagne.layers.dropout(network, p=.5),\n",
    "            num_units=128,\n",
    "            nonlinearity=lasagne.nonlinearities.rectify)\n",
    "\n",
    "    network = lasagne.layers.DenseLayer(\n",
    "            lasagne.layers.dropout(network, p=.5),\n",
    "            num_units=43,\n",
    "            nonlinearity=lasagne.nonlinearities.softmax)\n",
    "\n",
    "    return network"
   ]
  },
  {
   "cell_type": "code",
   "execution_count": 35,
   "metadata": {
    "collapsed": true
   },
   "outputs": [],
   "source": [
    "def iterate_minibatches(inputs, targets, batchsize, shuffle=False):\n",
    "    assert len(inputs) == len(targets)\n",
    "    if shuffle:\n",
    "        indices = np.arange(len(inputs))\n",
    "        np.random.shuffle(indices)\n",
    "    for start_idx in range(0, len(inputs) - batchsize + 1, batchsize):\n",
    "        if shuffle:\n",
    "            excerpt = indices[start_idx:start_idx + batchsize]\n",
    "        else:\n",
    "            excerpt = slice(start_idx, start_idx + batchsize)\n",
    "        yield inputs[excerpt], targets[excerpt]"
   ]
  },
  {
   "cell_type": "code",
   "execution_count": 36,
   "metadata": {
    "collapsed": true
   },
   "outputs": [],
   "source": [
    "input_var = T.tensor4('inputs')\n",
    "target_var = T.ivector('targets')"
   ]
  },
  {
   "cell_type": "code",
   "execution_count": 37,
   "metadata": {
    "collapsed": false
   },
   "outputs": [],
   "source": [
    "network = build_cnn(input_var)"
   ]
  },
  {
   "cell_type": "code",
   "execution_count": 38,
   "metadata": {
    "collapsed": false
   },
   "outputs": [
    {
     "name": "stderr",
     "output_type": "stream",
     "text": [
      "D:\\Program Files\\Anaconda3\\lib\\site-packages\\lasagne\\layers\\conv.py:489: UserWarning: The `image_shape` keyword argument to `tensor.nnet.conv2d` is deprecated, it has been renamed to `input_shape`.\n",
      "  border_mode=border_mode)\n"
     ]
    }
   ],
   "source": [
    "prediction = lasagne.layers.get_output(network)\n",
    "loss = lasagne.objectives.categorical_crossentropy(prediction, target_var)\n",
    "loss = loss.mean()"
   ]
  },
  {
   "cell_type": "code",
   "execution_count": 39,
   "metadata": {
    "collapsed": false
   },
   "outputs": [
    {
     "name": "stderr",
     "output_type": "stream",
     "text": [
      "D:\\Program Files\\Anaconda3\\lib\\site-packages\\lasagne\\layers\\conv.py:489: UserWarning: The `image_shape` keyword argument to `tensor.nnet.conv2d` is deprecated, it has been renamed to `input_shape`.\n",
      "  border_mode=border_mode)\n"
     ]
    }
   ],
   "source": [
    "params = lasagne.layers.get_all_params(network, trainable=True)\n",
    "updates = lasagne.updates.nesterov_momentum(\n",
    "            loss, params, learning_rate=0.01, momentum=0.9)\n",
    "\n",
    "test_prediction = lasagne.layers.get_output(network, deterministic=True)\n",
    "test_loss = lasagne.objectives.categorical_crossentropy(test_prediction,\n",
    "                                                            target_var)\n",
    "test_loss = test_loss.mean()\n",
    "\n",
    "test_acc = T.mean(T.eq(T.argmax(test_prediction, axis=1), target_var),\n",
    "                        dtype=theano.config.floatX)"
   ]
  },
  {
   "cell_type": "code",
   "execution_count": 40,
   "metadata": {
    "collapsed": true
   },
   "outputs": [],
   "source": [
    "pred = test_prediction.argmax(-1)\n",
    "f_predict = theano.function([input_var], pred)"
   ]
  },
  {
   "cell_type": "code",
   "execution_count": 41,
   "metadata": {
    "collapsed": false
   },
   "outputs": [],
   "source": [
    "train_fn = theano.function([input_var, target_var], \n",
    "                           loss, \n",
    "                           updates=updates,\n",
    "                           allow_input_downcast=True)\n",
    "\n",
    "val_fn = theano.function([input_var, target_var], \n",
    "                         [test_loss, test_acc],\n",
    "                         allow_input_downcast=True)"
   ]
  },
  {
   "cell_type": "markdown",
   "metadata": {},
   "source": [
    "## Обучение сети для классификации монет"
   ]
  },
  {
   "cell_type": "code",
   "execution_count": 42,
   "metadata": {
    "collapsed": true
   },
   "outputs": [],
   "source": [
    "num_epochs = 15"
   ]
  },
  {
   "cell_type": "code",
   "execution_count": 43,
   "metadata": {
    "collapsed": true
   },
   "outputs": [],
   "source": [
    "BATCH_SIZE = 64"
   ]
  },
  {
   "cell_type": "code",
   "execution_count": 44,
   "metadata": {
    "collapsed": false
   },
   "outputs": [
    {
     "name": "stdout",
     "output_type": "stream",
     "text": [
      "Epoch: 0, train:1.8425047604469098, val:1.1887429201441622\n",
      "Epoch: 1, train:1.224525635696179, val:1.495866617721045\n",
      "Epoch: 2, train:1.0304444063477842, val:0.8191042382359309\n",
      "Epoch: 3, train:0.8432442631956556, val:0.7049461511832237\n",
      "Epoch: 4, train:0.7729204473241329, val:0.7250249145923857\n",
      "Epoch: 5, train:0.7616572942023347, val:0.6292945655750808\n",
      "Epoch: 6, train:0.6901140451396437, val:0.6186479316407676\n",
      "Epoch: 7, train:0.6454665435961252, val:0.5310134742568363\n",
      "Epoch: 8, train:0.6265137031540035, val:0.6146123795323053\n",
      "Epoch: 9, train:0.5940656356925722, val:0.48237120668127176\n",
      "Epoch: 10, train:0.5405944229059269, val:0.5278758804808054\n",
      "Epoch: 11, train:0.5050225551231783, val:0.4859400017360855\n",
      "Epoch: 12, train:0.47122333645064457, val:0.4325444388083829\n",
      "Epoch: 13, train:0.4435623683316006, val:0.5689934432286808\n",
      "Epoch: 14, train:0.4389406745775181, val:0.4197242966301145\n"
     ]
    }
   ],
   "source": [
    "for epoch in range(num_epochs):\n",
    "    train_err = 0\n",
    "    train_batches = 0\n",
    "    start_time = time.time()\n",
    "    for batch in iterate_minibatches(images, labels, BATCH_SIZE, shuffle=True):\n",
    "        inputs, targets = batch\n",
    "        train_err += train_fn(inputs, targets)\n",
    "        train_batches += 1\n",
    "\n",
    "    val_err = 0\n",
    "    val_acc = 0\n",
    "    val_batches = 0\n",
    "    for batch in iterate_minibatches(images_test, labels_test, BATCH_SIZE, shuffle=False):\n",
    "        inputs, targets = batch\n",
    "        err, acc = val_fn(inputs, targets)\n",
    "        val_err += err\n",
    "        val_acc += acc\n",
    "        val_batches += 1\n",
    "        \n",
    "    print(\"Epoch: {}, train:{}, val:{}\".format(epoch, \n",
    "                                               train_err/train_batches,\n",
    "                                               val_err/val_batches))"
   ]
  },
  {
   "cell_type": "markdown",
   "metadata": {
    "collapsed": true
   },
   "source": [
    "## Итого"
   ]
  },
  {
   "cell_type": "code",
   "execution_count": 45,
   "metadata": {
    "collapsed": false
   },
   "outputs": [],
   "source": [
    "y_true = []\n",
    "y_pred = []\n",
    "\n",
    "for i in range(len(labels_test)):\n",
    "    y_true.append(int(labels_test[i]))\n",
    "    y_pred.append(f_predict([images_test[i]])[0])"
   ]
  },
  {
   "cell_type": "code",
   "execution_count": 46,
   "metadata": {
    "collapsed": true
   },
   "outputs": [],
   "source": [
    "from sklearn.metrics import confusion_matrix"
   ]
  },
  {
   "cell_type": "code",
   "execution_count": 47,
   "metadata": {
    "collapsed": true
   },
   "outputs": [],
   "source": [
    "CM = confusion_matrix(y_true, y_pred)"
   ]
  },
  {
   "cell_type": "code",
   "execution_count": 48,
   "metadata": {
    "collapsed": false
   },
   "outputs": [
    {
     "data": {
      "image/png": "[encoded data removed]",
      "text/plain": [
       "<matplotlib.figure.Figure at 0x1692f10>"
      ]
     },
     "metadata": {},
     "output_type": "display_data"
    }
   ],
   "source": [
    "import seaborn as sns\n",
    "\n",
    "fig = plt.figure(figsize=(20, 20))\n",
    "sns.heatmap(CM, annot=True, fmt=\"d\", linewidths=.5)\n",
    "plt.show()"
   ]
  }
 ],
 "metadata": {
  "anaconda-cloud": {},
  "kernelspec": {
   "display_name": "Python [Root]",
   "language": "python",
   "name": "Python [Root]"
  },
  "language_info": {
   "codemirror_mode": {
    "name": "ipython",
    "version": 3
   },
   "file_extension": ".py",
   "mimetype": "text/x-python",
   "name": "python",
   "nbconvert_exporter": "python",
   "pygments_lexer": "ipython3",
   "version": "3.5.2"
  }
 },
 "nbformat": 4,
 "nbformat_minor": 0
}
